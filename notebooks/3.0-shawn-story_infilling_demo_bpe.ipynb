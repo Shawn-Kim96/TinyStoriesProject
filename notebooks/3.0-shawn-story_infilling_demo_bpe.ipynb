{
 "cells": [
  {
   "cell_type": "markdown",
   "metadata": {},
   "source": [
    "# TinyStories Story Infilling Model Demo with BPE Tokenizer\n",
    "\n",
    "This notebook demonstrates how to use the TinyStories story infilling model with the BPE tokenizer. The model takes the first and last sentences of a story as input and generates the middle part."
   ]
  },
  {
   "cell_type": "code",
   "execution_count": 1,
   "metadata": {},
   "outputs": [
    {
     "name": "stderr",
     "output_type": "stream",
     "text": [
      "/Users/shawn/Library/Caches/pypoetry/virtualenvs/tinystoriesproject-PsthS1z7-py3.11/lib/python3.11/site-packages/tqdm/auto.py:21: TqdmWarning: IProgress not found. Please update jupyter and ipywidgets. See https://ipywidgets.readthedocs.io/en/stable/user_install.html\n",
      "  from .autonotebook import tqdm as notebook_tqdm\n"
     ]
    },
    {
     "name": "stdout",
     "output_type": "stream",
     "text": [
      "Project path: /Users/shawn/Documents/sjsu/2025-1/DL_CMPE258/TinyStoriesProject\n"
     ]
    }
   ],
   "source": [
    "import torch\n",
    "import os\n",
    "import sys\n",
    "from datasets import load_dataset\n",
    "import random\n",
    "\n",
    "# Add project directory to path to import modules\n",
    "current_path = os.path.abspath('.')\n",
    "project_name = 'TinyStoriesProject'\n",
    "project_path = os.path.join(current_path.split(project_name)[0], project_name)\n",
    "sys.path.append(project_path)\n",
    "print(f\"Project path: {project_path}\")"
   ]
  },
  {
   "cell_type": "code",
   "execution_count": 2,
   "metadata": {},
   "outputs": [],
   "source": [
    "# Import project modules\n",
    "from src.models import StoryInfillingModel\n",
    "from src.bpe_tokenizer import BPETokenizerWrapper\n",
    "from src.generate_story import generate_story"
   ]
  },
  {
   "cell_type": "markdown",
   "metadata": {},
   "source": [
    "## 1. Load the pre-trained model\n",
    "\n",
    "First, let's load the pre-trained model from the saved checkpoint."
   ]
  },
  {
   "cell_type": "code",
   "execution_count": null,
   "metadata": {},
   "outputs": [
    {
     "name": "stdout",
     "output_type": "stream",
     "text": [
      "Model found at /Users/shawn/Documents/sjsu/2025-1/DL_CMPE258/TinyStoriesProject/models/tinystories_bpe_infilling_model.pth\n"
     ]
    }
   ],
   "source": [
    "# Check if model exists\n",
    "model_path = os.path.join(project_path, 'models', 'tinystories_bpe_infilling_model_emb256_layer4_head4_seq256.pth')\n",
    "if not os.path.exists(model_path):\n",
    "    print(\"Model file not found. You need to train the model first by running src/train_infilling_model.py\")\n",
    "else:\n",
    "    print(f\"Model found at {model_path}\")"
   ]
  },
  {
   "cell_type": "code",
   "execution_count": 32,
   "metadata": {},
   "outputs": [
    {
     "name": "stdout",
     "output_type": "stream",
     "text": [
      "Using device: cpu\n"
     ]
    }
   ],
   "source": [
    "# Set the device\n",
    "device = torch.device('cuda' if torch.cuda.is_available() else 'cpu')\n",
    "print(f\"Using device: {device}\")"
   ]
  },
  {
   "cell_type": "code",
   "execution_count": 33,
   "metadata": {},
   "outputs": [
    {
     "name": "stdout",
     "output_type": "stream",
     "text": [
      "Model was trained for 7 epochs\n",
      "Train loss: 1.1038, Validation loss: 1.0846\n",
      "Using tokenizer model: gpt2\n"
     ]
    }
   ],
   "source": [
    "# Load model checkpoint\n",
    "checkpoint = torch.load(model_path, map_location=device)\n",
    "model_args = checkpoint['args']\n",
    "tokenizer_model_name = checkpoint.get('tokenizer_model', 'gpt2')\n",
    "\n",
    "print(f\"Model was trained for {checkpoint['epoch']} epochs\")\n",
    "print(f\"Train loss: {checkpoint['train_loss']:.4f}, Validation loss: {checkpoint['valid_loss']:.4f}\")\n",
    "print(f\"Using tokenizer model: {tokenizer_model_name}\")"
   ]
  },
  {
   "cell_type": "code",
   "execution_count": 34,
   "metadata": {},
   "outputs": [
    {
     "name": "stdout",
     "output_type": "stream",
     "text": [
      "Successfully loaded tokenizer\n",
      "Tokenizer vocabulary size: 50258\n"
     ]
    }
   ],
   "source": [
    "# Initialize BPE tokenizer\n",
    "tokenizer = BPETokenizerWrapper(\n",
    "    model_name=tokenizer_model_name,\n",
    "    special_tokens={\"blank_token\": \"<blank>\"}\n",
    ")\n",
    "vocab_size = tokenizer.get_vocab_size()\n",
    "print(f\"Tokenizer vocabulary size: {vocab_size}\")"
   ]
  },
  {
   "cell_type": "code",
   "execution_count": 35,
   "metadata": {},
   "outputs": [
    {
     "name": "stdout",
     "output_type": "stream",
     "text": [
      "Model loaded successfully!\n"
     ]
    }
   ],
   "source": [
    "# Initialize model\n",
    "model = StoryInfillingModel(\n",
    "    vocab_size=vocab_size,\n",
    "    embed_dim=model_args['embed_dim'],\n",
    "    num_layers=model_args['num_layers'],\n",
    "    num_heads=model_args['num_heads'],\n",
    "    ff_dim=model_args['ff_dim'],\n",
    "    max_seq_length=model_args['max_seq_length'],\n",
    "    dropout=model_args['dropout'],\n",
    "    pad_token_id=tokenizer.pad_token_id,\n",
    "    blank_token_id=tokenizer.blank_token_id\n",
    ").to(device)\n",
    "\n",
    "# Load model weights\n",
    "model.load_state_dict(checkpoint['model_state_dict'])\n",
    "model.eval()\n",
    "\n",
    "print(\"Model loaded successfully!\")"
   ]
  },
  {
   "cell_type": "markdown",
   "metadata": {},
   "source": [
    "## 2. Testing with examples from the validation set\n",
    "\n",
    "Let's load the validation set and test our model with some real examples."
   ]
  },
  {
   "cell_type": "code",
   "execution_count": 36,
   "metadata": {},
   "outputs": [
    {
     "name": "stdout",
     "output_type": "stream",
     "text": [
      "Validation dataset loaded with 21990 examples\n"
     ]
    }
   ],
   "source": [
    "# Load validation dataset\n",
    "valid_dataset = load_dataset(\"roneneldan/TinyStories\", split=\"validation\")\n",
    "print(f\"Validation dataset loaded with {len(valid_dataset)} examples\")"
   ]
  },
  {
   "cell_type": "code",
   "execution_count": 37,
   "metadata": {},
   "outputs": [],
   "source": [
    "def extract_first_last_sentences(text):\n",
    "    \"\"\"Extract the first and last sentences from a story.\"\"\"\n",
    "    # Simple sentence splitting by period\n",
    "    sentences = text.split('.')\n",
    "    sentences = [s.strip() + '.' for s in sentences if s.strip()]\n",
    "    \n",
    "    if len(sentences) < 2:\n",
    "        return None, None\n",
    "    \n",
    "    return sentences[0], sentences[-1]"
   ]
  },
  {
   "cell_type": "code",
   "execution_count": 38,
   "metadata": {},
   "outputs": [],
   "source": [
    "# Test with a random example from the validation set\n",
    "def test_with_random_example():\n",
    "    # Get a random example\n",
    "    idx = random.randint(0, len(valid_dataset) - 1)\n",
    "    story = valid_dataset[idx]['text']\n",
    "    \n",
    "    # Extract first and last sentences\n",
    "    first_sentence, last_sentence = extract_first_last_sentences(story)\n",
    "    \n",
    "    if not first_sentence or not last_sentence:\n",
    "        print(\"Couldn't extract sentences properly. Trying another example.\")\n",
    "        return test_with_random_example()\n",
    "    \n",
    "    print(\"Original story:\")\n",
    "    print(\"-\" * 80)\n",
    "    print(story)\n",
    "    print(\"-\" * 80)\n",
    "    print()\n",
    "    \n",
    "    print(\"First sentence:\")\n",
    "    print(first_sentence)\n",
    "    print()\n",
    "    \n",
    "    print(\"Last sentence:\")\n",
    "    print(last_sentence)\n",
    "    print()\n",
    "    \n",
    "    # Generate the middle part with our model\n",
    "    generated_story = model.generate(\n",
    "        first_sentence,\n",
    "        last_sentence,\n",
    "        tokenizer,\n",
    "        max_length=150,\n",
    "        teacher_forcing_ratio=0.0  # During testing, we don't use teacher forcing\n",
    "    )\n",
    "    \n",
    "    print(\"Generated story:\")\n",
    "    print(\"-\" * 80)\n",
    "    print(generated_story)\n",
    "    print(\"-\" * 80)\n",
    "    \n",
    "    return first_sentence, last_sentence, story, generated_story"
   ]
  },
  {
   "cell_type": "code",
   "execution_count": 39,
   "metadata": {},
   "outputs": [
    {
     "name": "stdout",
     "output_type": "stream",
     "text": [
      "Original story:\n",
      "--------------------------------------------------------------------------------\n",
      "Once upon a time there was a small class. The class had lots of fun things to do. Every day a teacher came to teach them.\n",
      "\n",
      "The teacher was very kind, and helped the small class learn about lots of different things. They learned about numbers and animals and colours. \n",
      "\n",
      "The teacher also taught them how to read, write and draw. The class was so excited! Every day they loved learning something new.\n",
      "\n",
      "At the end of each day the teacher gave each student a big hug and said goodbye. \n",
      "\n",
      "The small class and the teacher had lots of fun teaching and learning together!\n",
      "--------------------------------------------------------------------------------\n",
      "\n",
      "First sentence:\n",
      "Once upon a time there was a small class.\n",
      "\n",
      "Last sentence:\n",
      "The small class and the teacher had lots of fun teaching and learning together!.\n",
      "\n",
      "Generated story:\n",
      "--------------------------------------------------------------------------------\n",
      "Once upon a time there was a small class.  The And They And The Everyone They They The From They They They The The The Everyone The The Everyone The He The The The They The Now � They They Everyone The The Everyone They They From The It From They They Now The It They They The But The They They And They The They The They They And The It They They The Everyone He And And They They They The They They \" They The They They \". They Everyone They They They We They The They They They They They They They The The They They The small class and the teacher had lots of fun teaching and learning together!.\n",
      "--------------------------------------------------------------------------------\n"
     ]
    }
   ],
   "source": [
    "first_sentence, last_sentence, original_story, generated_story = test_with_random_example()"
   ]
  },
  {
   "cell_type": "markdown",
   "metadata": {},
   "source": [
    "## 3. Custom examples\n",
    "\n",
    "Now let's try with our own custom first and last sentences."
   ]
  },
  {
   "cell_type": "code",
   "execution_count": 15,
   "metadata": {},
   "outputs": [],
   "source": [
    "def generate_with_custom_input(first_sentence, last_sentence, max_tokens=150):\n",
    "    print(\"First sentence:\")\n",
    "    print(first_sentence)\n",
    "    print()\n",
    "    \n",
    "    print(\"Last sentence:\")\n",
    "    print(last_sentence)\n",
    "    print()\n",
    "    \n",
    "    # Generate the middle part with our model\n",
    "    generated_story = model.generate(\n",
    "        first_sentence,\n",
    "        last_sentence,\n",
    "        tokenizer,\n",
    "        max_length=max_tokens,\n",
    "        teacher_forcing_ratio=0.0\n",
    "    )\n",
    "    \n",
    "    print(\"Generated story:\")\n",
    "    print(\"-\" * 80)\n",
    "    print(generated_story)\n",
    "    print(\"-\" * 80)\n",
    "    \n",
    "    return generated_story"
   ]
  },
  {
   "cell_type": "code",
   "execution_count": 16,
   "metadata": {},
   "outputs": [
    {
     "name": "stdout",
     "output_type": "stream",
     "text": [
      "First sentence:\n",
      "Once upon a time, there was a little boy named Tim who loved to play with toys.\n",
      "\n",
      "Last sentence:\n",
      "Tim learned that sharing his toys made everyone happy, including himself.\n",
      "\n",
      "Generated story:\n",
      "--------------------------------------------------------------------------------\n",
      "Once upon a time, there was a little boy named Tim who loved to play with toys.  Tim From It They From Tim Tim Tim They \" They They And \" \" And They They \" And Tim The Tim Tim They They Tim They The They They Tim Tim They \" They \". They They They Tim They They They They They They It They Tim They They He \". The They It They They Tim They They They And They They They They They The They They They He They And And And They The They They They They They The The They They The He The The Mom Tim learned that sharing his toys made everyone happy, including himself.\n",
      "--------------------------------------------------------------------------------\n"
     ]
    }
   ],
   "source": [
    "# Example 1\n",
    "custom_first_1 = \"Once upon a time, there was a little boy named Tim who loved to play with toys.\"\n",
    "custom_last_1 = \"Tim learned that sharing his toys made everyone happy, including himself.\"\n",
    "\n",
    "generated_story_1 = generate_with_custom_input(custom_first_1, custom_last_1)"
   ]
  },
  {
   "cell_type": "code",
   "execution_count": 17,
   "metadata": {},
   "outputs": [
    {
     "name": "stdout",
     "output_type": "stream",
     "text": [
      "First sentence:\n",
      "Sarah was excited to visit the zoo with her family on Saturday.\n",
      "\n",
      "Last sentence:\n",
      "They all agreed it was the best day ever and couldn't wait to come back.\n",
      "\n",
      "Generated story:\n",
      "--------------------------------------------------------------------------------\n",
      "Sarah was excited to visit the zoo with her family on Saturday.  He She It She She Now She \" And \". Even She Now She The She She She She She She From She It She \" From She Now Even Now She \". She She She She She She It She Now She She She \" She She She That She Her You You What She They And They Together That She They They \" They They It They She The She They They You Mom Grand But And They From They Mom You They It You And They She They They Grand The They They They all agreed it was the best day ever and couldn't wait to come back.\n",
      "--------------------------------------------------------------------------------\n"
     ]
    }
   ],
   "source": [
    "# Example 2\n",
    "custom_first_2 = \"Sarah was excited to visit the zoo with her family on Saturday.\"\n",
    "custom_last_2 = \"They all agreed it was the best day ever and couldn't wait to come back.\"\n",
    "\n",
    "generated_story_2 = generate_with_custom_input(custom_first_2, custom_last_2)"
   ]
  },
  {
   "cell_type": "code",
   "execution_count": 18,
   "metadata": {},
   "outputs": [
    {
     "name": "stdout",
     "output_type": "stream",
     "text": [
      "First sentence:\n",
      "It was a rainy day and Max was feeling sad because he couldn't go outside to play.\n",
      "\n",
      "Last sentence:\n",
      "Max realized that rainy days could be fun too.\n",
      "\n",
      "Generated story:\n",
      "--------------------------------------------------------------------------------\n",
      "It was a rainy day and Max was feeling sad because he couldn't go outside to play.  He Max It Max He Then It His He He In The He He He He He Max The Now It He He They As As He In From From They He What It He Max \" In So That They They It They From They They From They It They The It Max He He They Now From And Mom They And He Grand They They They The They So He They And They They He He \" They He He The They They But It But They They \" The The They They They They Max realized that rainy days could be fun too.\n",
      "--------------------------------------------------------------------------------\n"
     ]
    }
   ],
   "source": [
    "# Example 3\n",
    "custom_first_3 = \"It was a rainy day and Max was feeling sad because he couldn't go outside to play.\"\n",
    "custom_last_3 = \"Max realized that rainy days could be fun too.\"\n",
    "\n",
    "generated_story_3 = generate_with_custom_input(custom_first_3, custom_last_3)"
   ]
  },
  {
   "cell_type": "markdown",
   "metadata": {},
   "source": [
    "## 4. Experiment with generation parameters\n",
    "\n",
    "Let's try changing the generation parameters to see how they affect the output."
   ]
  },
  {
   "cell_type": "code",
   "execution_count": 19,
   "metadata": {},
   "outputs": [],
   "source": [
    "def generate_with_parameters(first_sentence, last_sentence, max_tokens=150, temperature=1.0, top_k=50, top_p=0.9):\n",
    "    # Initialize model for story generation with different parameters\n",
    "    # Temperature controls randomness: higher values (>1.0) make output more random, lower values (<1.0) make it more deterministic\n",
    "    \n",
    "    print(f\"Generating with temperature={temperature}, top_k={top_k}, top_p={top_p}\")\n",
    "    \n",
    "    # For direct use of the model's generate method with more control\n",
    "    generated_story = model.generate(\n",
    "        first_sentence,\n",
    "        last_sentence,\n",
    "        tokenizer,\n",
    "        max_length=max_tokens,\n",
    "        temperature=temperature,\n",
    "        top_k=top_k,\n",
    "        top_p=top_p,\n",
    "        teacher_forcing_ratio=0.0\n",
    "    )\n",
    "    \n",
    "    print(\"Generated story:\")\n",
    "    print(\"-\" * 80)\n",
    "    print(generated_story)\n",
    "    print(\"-\" * 80)\n",
    "    \n",
    "    return generated_story"
   ]
  },
  {
   "cell_type": "code",
   "execution_count": 20,
   "metadata": {},
   "outputs": [
    {
     "name": "stdout",
     "output_type": "stream",
     "text": [
      "First sentence:\n",
      "Jake was a little boy who always wanted a puppy for his birthday.\n",
      "\n",
      "Last sentence:\n",
      "Jake was so happy with his new puppy and promised to take care of it forever.\n",
      "\n"
     ]
    }
   ],
   "source": [
    "# Choose an example\n",
    "test_first = \"Jake was a little boy who always wanted a puppy for his birthday.\"\n",
    "test_last = \"Jake was so happy with his new puppy and promised to take care of it forever.\"\n",
    "\n",
    "print(\"First sentence:\")\n",
    "print(test_first)\n",
    "print()\n",
    "print(\"Last sentence:\")\n",
    "print(test_last)\n",
    "print()"
   ]
  },
  {
   "cell_type": "code",
   "execution_count": 21,
   "metadata": {},
   "outputs": [
    {
     "name": "stdout",
     "output_type": "stream",
     "text": [
      "Generating with temperature=0.5, top_k=50, top_p=0.9\n",
      "Generated story:\n",
      "--------------------------------------------------------------------------------\n",
      "Jake was a little boy who always wanted a puppy for his birthday.  He He He He He He He He He He He He He He He He He He He He He He He He Now He He He He He He From He He He From He He He He He He He He He He He He He You He He He He He Hed Hed He From He He He He He He He He He He He He He He He Hed He Hed He He He He Hedd He He He He Hed He Jake was so happy with his new puppy and promised to take care of it forever.\n",
      "--------------------------------------------------------------------------------\n",
      "Generating with temperature=1.0, top_k=50, top_p=0.9\n",
      "Generated story:\n",
      "--------------------------------------------------------------------------------\n",
      "Jake was a little boy who always wanted a puppy for his birthday.  He But He He He They From He The It He Now And He He \". The He He You His He He He He From Jake Everyone He From He Now In Now Everyone But In He He He He He From He He And This Now As He He It Now He After \" Even He But And He He You The \". His He From He In He Now You The The From She You The That You From He He He He Moral He He He As He He He He Jake was so happy with his new puppy and promised to take care of it forever.\n",
      "--------------------------------------------------------------------------------\n",
      "Generating with temperature=1.5, top_k=50, top_p=0.9\n",
      "Generated story:\n",
      "--------------------------------------------------------------------------------\n",
      "Jake was a little boy who always wanted a puppy for his birthday.  He She She He Now The He Everyone The With He \" I That So That As Now He I Now Everyone It Jake I \". \". But They The They He Jake He He Now The The \".!! He He They!!!! From!!!! He!!!!!!!!!!!!!!!!!!!!!!!!!!!!!!!!!!!!!!!!! Jake was so happy with his new puppy and promised to take care of it forever.\n",
      "--------------------------------------------------------------------------------\n"
     ]
    }
   ],
   "source": [
    "# Generate with different temperatures\n",
    "low_temp_story = generate_with_parameters(test_first, test_last, temperature=0.5)\n",
    "normal_temp_story = generate_with_parameters(test_first, test_last, temperature=1.0)\n",
    "high_temp_story = generate_with_parameters(test_first, test_last, temperature=1.5)"
   ]
  },
  {
   "cell_type": "code",
   "execution_count": 22,
   "metadata": {},
   "outputs": [
    {
     "name": "stdout",
     "output_type": "stream",
     "text": [
      "Generating with temperature=1.0, top_k=10, top_p=0.9\n",
      "Generated story:\n",
      "--------------------------------------------------------------------------------\n",
      "Jake was a little boy who always wanted a puppy for his birthday.  \" He He He It He Now The They Jake They The He He He The From He The He Now \" \" Now He He The The He He He You The \". He You He Jake He Now He He He You The Now He \" He Now From You He You You He They The He The He He From From He They You The It The He He The You He It It From They He The They He They They It The They They They They They They They They Jake was so happy with his new puppy and promised to take care of it forever.\n",
      "--------------------------------------------------------------------------------\n",
      "Generating with temperature=1.0, top_k=100, top_p=0.9\n",
      "Generated story:\n",
      "--------------------------------------------------------------------------------\n",
      "Jake was a little boy who always wanted a puppy for his birthday.  He He With She He The The They The They From He He In \" In With \". It They The They From They The He They It He In When But You You \" The From With And He They Then He They It He And Hed From He And Then He They It They It At They The They Finally They They And Everyone They After In He Even He So It Now They They If They From The \". \" The He In He The The They And You The Now Jake was so happy with his new puppy and promised to take care of it forever.\n",
      "--------------------------------------------------------------------------------\n",
      "Generating with temperature=1.0, top_k=50, top_p=0.5\n",
      "Generated story:\n",
      "--------------------------------------------------------------------------------\n",
      "Jake was a little boy who always wanted a puppy for his birthday.  He He He He The He He He He He Now He He He He He He He He He He He The He The He He He He From He He He He From He From He He It He The He He It He He Now From He He He He He Hed It He He He Now The He He He From The He He He He He He He He He He Hed He He He He He The He Hed He He He He Hed He Jake was so happy with his new puppy and promised to take care of it forever.\n",
      "--------------------------------------------------------------------------------\n",
      "Generating with temperature=1.0, top_k=50, top_p=0.99\n",
      "Generated story:\n",
      "--------------------------------------------------------------------------------\n",
      "Jake was a little boy who always wanted a puppy for his birthday.  His He Jake He Jake \" He \" The And \" \" He He They You He From He You Now The He It The \" The He It Now Now They We The It \". It You Now It He \" But Now The Even She \" \" It The \". He His!!!!!!!!!!!!!!!!!!!!!!!!!!!!!!!!!!!!!!!!! Jake was so happy with his new puppy and promised to take care of it forever.\n",
      "--------------------------------------------------------------------------------\n"
     ]
    }
   ],
   "source": [
    "# Generate with different top_k and top_p values\n",
    "low_k_story = generate_with_parameters(test_first, test_last, top_k=10)\n",
    "high_k_story = generate_with_parameters(test_first, test_last, top_k=100)\n",
    "low_p_story = generate_with_parameters(test_first, test_last, top_p=0.5)\n",
    "high_p_story = generate_with_parameters(test_first, test_last, top_p=0.99)"
   ]
  },
  {
   "cell_type": "markdown",
   "metadata": {},
   "source": [
    "## 5. Trying teacher forcing during generation\n",
    "\n",
    "Let's see how teacher forcing affects generation when we have a ground truth story."
   ]
  },
  {
   "cell_type": "code",
   "execution_count": 23,
   "metadata": {},
   "outputs": [],
   "source": [
    "def generate_with_teacher_forcing(first_sentence, last_sentence, ground_truth, ratio=0.5):\n",
    "    print(f\"Generating with teacher_forcing_ratio={ratio}\")\n",
    "    print(\"Ground truth:\")\n",
    "    print(\"-\" * 80)\n",
    "    print(ground_truth)\n",
    "    print(\"-\" * 80)\n",
    "    print()\n",
    "    \n",
    "    # Generate with teacher forcing\n",
    "    generated_story = model.generate(\n",
    "        first_sentence,\n",
    "        last_sentence,\n",
    "        tokenizer,\n",
    "        max_length=200,\n",
    "        teacher_forcing_ratio=ratio,\n",
    "        ground_truth=ground_truth\n",
    "    )\n",
    "    \n",
    "    print(\"Generated story:\")\n",
    "    print(\"-\" * 80)\n",
    "    print(generated_story)\n",
    "    print(\"-\" * 80)\n",
    "    \n",
    "    return generated_story"
   ]
  },
  {
   "cell_type": "code",
   "execution_count": 24,
   "metadata": {},
   "outputs": [
    {
     "name": "stdout",
     "output_type": "stream",
     "text": [
      "Generating with teacher_forcing_ratio=0.0\n",
      "Ground truth:\n",
      "--------------------------------------------------------------------------------\n",
      "Once upon a time there was an ugly earth. It was so sad and alone. One day, a magical creature appeared and said, \"I can help you feel better.\"\n",
      "\n",
      "The earth said, \"What can you do?\"\n",
      "\n",
      "The creature said, \"I can give you something to drink.\"\n",
      "\n",
      "The earth said, \"What can I drink?\"\n",
      "\n",
      "The creature said, \"A magical drink that will make you feel better.\"\n",
      "\n",
      "So the earth drank the magical drink and sure enough it felt better. The earth was so happy that it said, \"Thank you for the magical drink. You made me feel better.\"\n",
      "\n",
      "The creature smiled and said, \"You're very welcome.\" And then it flew away.\n",
      "\n",
      "From that day on, the earth was happy and not so ugly anymore.\n",
      "--------------------------------------------------------------------------------\n",
      "\n",
      "Generated story:\n",
      "--------------------------------------------------------------------------------\n",
      "Once upon a time there was an ugly earth.  The The The The Everyone The They The Everyone The \" They They The The The The They � The They The They \" They The The Now It They The The Together The The It They They They The It They The They They They In It Everyone They The They But They They What It It They � They They As They The From So The The So The They They And They They They They The They They Together The They They It They The And The The They They The They They The married They The What From that day on, the earth was happy and not so ugly anymore.\n",
      "--------------------------------------------------------------------------------\n",
      "Generating with teacher_forcing_ratio=0.5\n",
      "Ground truth:\n",
      "--------------------------------------------------------------------------------\n",
      "Once upon a time there was an ugly earth. It was so sad and alone. One day, a magical creature appeared and said, \"I can help you feel better.\"\n",
      "\n",
      "The earth said, \"What can you do?\"\n",
      "\n",
      "The creature said, \"I can give you something to drink.\"\n",
      "\n",
      "The earth said, \"What can I drink?\"\n",
      "\n",
      "The creature said, \"A magical drink that will make you feel better.\"\n",
      "\n",
      "So the earth drank the magical drink and sure enough it felt better. The earth was so happy that it said, \"Thank you for the magical drink. You made me feel better.\"\n",
      "\n",
      "The creature smiled and said, \"You're very welcome.\" And then it flew away.\n",
      "\n",
      "From that day on, the earth was happy and not so ugly anymore.\n",
      "--------------------------------------------------------------------------------\n",
      "\n",
      "Generated story:\n",
      "--------------------------------------------------------------------------------\n",
      "Once upon a time there was an ugly earth.  She But so sad and alone The One From, The The The appeared And From The \"I She She you She But \" The\n",
      "The earth said It \"What can you The?\"\n",
      "\n",
      "The Now said She TheI can From The She Then She Now\n",
      "\n",
      "The earth said, \" Everyone The They She?\"\n",
      " TheyThe creature said \" \"A They drink \" will They you feel better.\" I ThatSo the \" drank The The drink It sure enough it felt better. They earth was so From that day on, the earth was happy and not so ugly anymore.\n",
      "--------------------------------------------------------------------------------\n",
      "Generating with teacher_forcing_ratio=1.0\n",
      "Ground truth:\n",
      "--------------------------------------------------------------------------------\n",
      "Once upon a time there was an ugly earth. It was so sad and alone. One day, a magical creature appeared and said, \"I can help you feel better.\"\n",
      "\n",
      "The earth said, \"What can you do?\"\n",
      "\n",
      "The creature said, \"I can give you something to drink.\"\n",
      "\n",
      "The earth said, \"What can I drink?\"\n",
      "\n",
      "The creature said, \"A magical drink that will make you feel better.\"\n",
      "\n",
      "So the earth drank the magical drink and sure enough it felt better. The earth was so happy that it said, \"Thank you for the magical drink. You made me feel better.\"\n",
      "\n",
      "The creature smiled and said, \"You're very welcome.\" And then it flew away.\n",
      "\n",
      "From that day on, the earth was happy and not so ugly anymore.\n",
      "--------------------------------------------------------------------------------\n",
      "\n",
      "Generated story:\n",
      "--------------------------------------------------------------------------------\n",
      "Once upon a time there was an ugly earth.  It was so sad and alone. One day, a magical creature appeared and said, \"I can help you feel better.\"\n",
      "\n",
      "The earth said, \"What can you do?\"\n",
      "\n",
      "The creature said, \"I can give you something to drink.\"\n",
      "\n",
      "The earth said, \"What can I drink?\"\n",
      "\n",
      "The creature said, \"A magical drink that will make you feel better.\"\n",
      "\n",
      "So the earth drank the magical drink and sure enough it felt better. The earth was so From that day on, the earth was happy and not so ugly anymore.\n",
      "--------------------------------------------------------------------------------\n"
     ]
    }
   ],
   "source": [
    "# Get a random story from the validation set\n",
    "idx = random.randint(0, len(valid_dataset) - 1)\n",
    "ground_truth = valid_dataset[idx]['text']\n",
    "first_sentence, last_sentence = extract_first_last_sentences(ground_truth)\n",
    "\n",
    "if not first_sentence or not last_sentence:\n",
    "    print(\"Couldn't extract sentences properly. Please run this cell again.\")\n",
    "else:\n",
    "    # Generate with different teacher forcing ratios\n",
    "    no_tf_story = generate_with_teacher_forcing(first_sentence, last_sentence, ground_truth, ratio=0.0)\n",
    "    half_tf_story = generate_with_teacher_forcing(first_sentence, last_sentence, ground_truth, ratio=0.5)\n",
    "    full_tf_story = generate_with_teacher_forcing(first_sentence, last_sentence, ground_truth, ratio=1.0)"
   ]
  },
  {
   "cell_type": "markdown",
   "metadata": {},
   "source": [
    "## 6. Continuation Generation (Without Last Sentence)\n",
    "\n",
    "The model can also generate continuations when only given the first sentence."
   ]
  },
  {
   "cell_type": "code",
   "execution_count": 25,
   "metadata": {},
   "outputs": [],
   "source": [
    "def generate_continuation(first_sentence, max_tokens=200):\n",
    "    print(\"First sentence:\")\n",
    "    print(first_sentence)\n",
    "    print()\n",
    "    \n",
    "    # Generate continuation with our model\n",
    "    generated_story = model.generate(\n",
    "        first_sentence,\n",
    "        last_sentence=None,  # No last sentence for continuation\n",
    "        tokenizer=tokenizer,\n",
    "        max_length=max_tokens,\n",
    "        teacher_forcing_ratio=0.0\n",
    "    )\n",
    "    \n",
    "    print(\"Generated continuation:\")\n",
    "    print(\"-\" * 80)\n",
    "    print(generated_story)\n",
    "    print(\"-\" * 80)\n",
    "    \n",
    "    return generated_story"
   ]
  },
  {
   "cell_type": "code",
   "execution_count": 26,
   "metadata": {},
   "outputs": [
    {
     "name": "stdout",
     "output_type": "stream",
     "text": [
      "First sentence:\n",
      "Once upon a time, there was a little girl named Lily who loved to dance in the rain.\n",
      "\n",
      "Generated continuation:\n",
      "--------------------------------------------------------------------------------\n",
      "Once upon a time, there was a little girl named Lily who loved to dance in the rain. <blank> The moral of the story is that it's always better to have fun and be kind to others.!!!!!!!!!!!!!!!!!!!!!!!!!!!!!!!!!!!!!!!!!!!!!!!!!!!!!!!!!!!!!!!!!!!!!!!!!!!!!!!!!!!!!!\n",
      "--------------------------------------------------------------------------------\n",
      "First sentence:\n",
      "Tim got a new robot toy for his birthday and was very excited to show it to his friends.\n",
      "\n",
      "Generated continuation:\n",
      "--------------------------------------------------------------------------------\n",
      "Tim got a new robot toy for his birthday and was very excited to show it to his friends. <blank> He was never able to ride his bike again.!!!!!!!!!!!!!!!!!!!!!!!!!!!!!!!!!!!!!!!!!!!!!!!!!!!!!!!!!!!!!!!!!!!!!!!!!!!!!!!!!!!!!!!!!!!!!!!!\n",
      "--------------------------------------------------------------------------------\n"
     ]
    }
   ],
   "source": [
    "# Example continuations\n",
    "custom_first_1 = \"Once upon a time, there was a little girl named Lily who loved to dance in the rain.\"\n",
    "continuation_1 = generate_continuation(custom_first_1)\n",
    "\n",
    "custom_first_2 = \"Tim got a new robot toy for his birthday and was very excited to show it to his friends.\"\n",
    "continuation_2 = generate_continuation(custom_first_2)"
   ]
  },
  {
   "cell_type": "code",
   "execution_count": null,
   "metadata": {},
   "outputs": [],
   "source": []
  }
 ],
 "metadata": {
  "kernelspec": {
   "display_name": "tinystoriesproject-PsthS1z7-py3.11",
   "language": "python",
   "name": "python3"
  },
  "language_info": {
   "codemirror_mode": {
    "name": "ipython",
    "version": 3
   },
   "file_extension": ".py",
   "mimetype": "text/x-python",
   "name": "python",
   "nbconvert_exporter": "python",
   "pygments_lexer": "ipython3",
   "version": "3.11.5"
  }
 },
 "nbformat": 4,
 "nbformat_minor": 4
}
